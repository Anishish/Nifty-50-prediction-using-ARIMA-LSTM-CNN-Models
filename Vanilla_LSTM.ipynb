{
  "nbformat": 4,
  "nbformat_minor": 0,
  "metadata": {
    "colab": {
      "name": "Vanilla_LSTM.ipynb",
      "provenance": []
    },
    "kernelspec": {
      "name": "python3",
      "display_name": "Python 3"
    },
    "language_info": {
      "name": "python"
    }
  },
  "cells": [
    {
      "cell_type": "code",
      "metadata": {
        "id": "Q3h7Ws-7XG7b"
      },
      "source": [
        "import pandas as pd\n",
        "import numpy as np\n",
        "import matplotlib.pyplot as plt\n",
        "from keras.models import Sequential\n",
        "from keras.layers import Dense\n",
        "from keras.layers import LSTM\n",
        "from keras.layers import Dropout\n",
        "from keras.layers import Activation\n",
        "import keras\n",
        "import tensorflow\n",
        "import seaborn as sns\n",
        "from sklearn.metrics import mean_squared_error"
      ],
      "execution_count": 1,
      "outputs": []
    },
    {
      "cell_type": "code",
      "metadata": {
        "colab": {
          "resources": {
            "http://localhost:8080/nbextensions/google.colab/files.js": {
              "data": "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",
              "ok": true,
              "headers": [
                [
                  "content-type",
                  "application/javascript"
                ]
              ],
              "status": 200,
              "status_text": ""
            }
          },
          "base_uri": "https://localhost:8080/",
          "height": 73
        },
        "id": "A0FZVN7UXSsi",
        "outputId": "df7ec0a5-f73d-4063-deda-ffb81b18dfbe"
      },
      "source": [
        "from google.colab import files  \n",
        "uploaded = files.upload()"
      ],
      "execution_count": 2,
      "outputs": [
        {
          "output_type": "display_data",
          "data": {
            "text/html": [
              "\n",
              "     <input type=\"file\" id=\"files-ad1c8fe6-9fc6-4b30-ac14-7bd59d79da5c\" name=\"files[]\" multiple disabled\n",
              "        style=\"border:none\" />\n",
              "     <output id=\"result-ad1c8fe6-9fc6-4b30-ac14-7bd59d79da5c\">\n",
              "      Upload widget is only available when the cell has been executed in the\n",
              "      current browser session. Please rerun this cell to enable.\n",
              "      </output>\n",
              "      <script src=\"/nbextensions/google.colab/files.js\"></script> "
            ],
            "text/plain": [
              "<IPython.core.display.HTML object>"
            ]
          },
          "metadata": {
            "tags": []
          }
        },
        {
          "output_type": "stream",
          "text": [
            "Saving NIFTY50 - NIFTY50.csv to NIFTY50 - NIFTY50.csv\n"
          ],
          "name": "stdout"
        }
      ]
    },
    {
      "cell_type": "code",
      "metadata": {
        "id": "bLlY-jHHXV7f"
      },
      "source": [
        "import io\n",
        "Data=pd.read_csv(io.BytesIO(uploaded['NIFTY50 - NIFTY50.csv']))"
      ],
      "execution_count": 5,
      "outputs": []
    },
    {
      "cell_type": "code",
      "metadata": {
        "id": "e9qqzAlfXYPP"
      },
      "source": [
        "cols= list(Data)[1:5]\n",
        "stock_prices = Data[cols].astype(float)"
      ],
      "execution_count": 6,
      "outputs": []
    },
    {
      "cell_type": "code",
      "metadata": {
        "colab": {
          "base_uri": "https://localhost:8080/"
        },
        "id": "a1WZD4t8Xatd",
        "outputId": "5006f39c-55a2-460b-de89-d4a2b02a8069"
      },
      "source": [
        "from sklearn.preprocessing import StandardScaler\n",
        "scaler = StandardScaler()\n",
        "scaler = scaler.fit(stock_prices)\n",
        "stock_prices_scaled = scaler.transform(stock_prices)\n",
        "print('df_for_training_scaled shape == {}.'.format(stock_prices_scaled.shape))"
      ],
      "execution_count": 7,
      "outputs": [
        {
          "output_type": "stream",
          "text": [
            "df_for_training_scaled shape == (3326, 4).\n"
          ],
          "name": "stdout"
        }
      ]
    },
    {
      "cell_type": "code",
      "metadata": {
        "id": "-WQIbOwnYDUG"
      },
      "source": [
        "train_size = int(len(stock_prices_scaled) * 0.66)\n",
        "test_size = len(stock_prices_scaled) - train_size\n",
        "train, test = stock_prices_scaled[0:train_size,:], stock_prices_scaled[train_size:len(stock_prices_scaled),:]\n"
      ],
      "execution_count": 8,
      "outputs": []
    },
    {
      "cell_type": "code",
      "metadata": {
        "id": "lX4aAjjVYFCF"
      },
      "source": [
        "train_inputs = []\n",
        "train_closing_labels=[]"
      ],
      "execution_count": 9,
      "outputs": []
    },
    {
      "cell_type": "code",
      "metadata": {
        "id": "NsI0sE6PYGUr"
      },
      "source": [
        "n_future = 1   # Number of days we want to predict into the future\n",
        "n_past = 14   # Number of past days we want to use to predict the future\n",
        "for i in range(n_past, len(train) - n_future +1):\n",
        "    train_inputs.append(train[i - n_past:i, 0:train.shape[1]])\n",
        "    #train_opening_labels.append(train[i + n_future - 1:i + n_future, 0])\n",
        "    train_closing_labels.append(train[i + n_future - 1:i + n_future, 1])\n",
        "train_inputs, train_closing_labels = np.array(train_inputs), np.array(train_closing_labels)\n"
      ],
      "execution_count": 10,
      "outputs": []
    },
    {
      "cell_type": "code",
      "metadata": {
        "colab": {
          "base_uri": "https://localhost:8080/"
        },
        "id": "tqUymt1-YHf8",
        "outputId": "58be7ee0-0e3a-4b7a-d1d6-2235784db12f"
      },
      "source": [
        "print('train_input shape == {}.'.format(train_inputs.shape))\n",
        "print('train_closing shape == {}.'.format(train_closing_labels.shape))"
      ],
      "execution_count": 11,
      "outputs": [
        {
          "output_type": "stream",
          "text": [
            "train_input shape == (2181, 14, 4).\n",
            "train_closing shape == (2181, 1).\n"
          ],
          "name": "stdout"
        }
      ]
    },
    {
      "cell_type": "code",
      "metadata": {
        "colab": {
          "base_uri": "https://localhost:8080/"
        },
        "id": "1jeIYL6rYI17",
        "outputId": "9b29ba3a-202b-4561-c19e-18a7362cf151"
      },
      "source": [
        "model = Sequential()\n",
        "model.add(LSTM(64, activation='relu', input_shape=(train_inputs.shape[1], train_inputs.shape[2])))\n",
        "model.add(Dropout(0.2))\n",
        "model.add(Dense(train_closing_labels.shape[1]))\n",
        "\n",
        "model.compile(optimizer='adam', loss='mse')\n",
        "model.summary()"
      ],
      "execution_count": 12,
      "outputs": [
        {
          "output_type": "stream",
          "text": [
            "Model: \"sequential\"\n",
            "_________________________________________________________________\n",
            "Layer (type)                 Output Shape              Param #   \n",
            "=================================================================\n",
            "lstm (LSTM)                  (None, 64)                17664     \n",
            "_________________________________________________________________\n",
            "dropout (Dropout)            (None, 64)                0         \n",
            "_________________________________________________________________\n",
            "dense (Dense)                (None, 1)                 65        \n",
            "=================================================================\n",
            "Total params: 17,729\n",
            "Trainable params: 17,729\n",
            "Non-trainable params: 0\n",
            "_________________________________________________________________\n"
          ],
          "name": "stdout"
        }
      ]
    },
    {
      "cell_type": "code",
      "metadata": {
        "colab": {
          "base_uri": "https://localhost:8080/"
        },
        "id": "TH78rQs-YNy8",
        "outputId": "6f165b42-0866-4751-f243-5d6a0ea3ccd6"
      },
      "source": [
        "history = model.fit(train_inputs, train_closing_labels, epochs = 100, validation_data = (train_inputs, train_closing_labels), batch_size = 32, verbose=1)"
      ],
      "execution_count": 13,
      "outputs": [
        {
          "output_type": "stream",
          "text": [
            "Epoch 1/100\n",
            "69/69 [==============================] - 3s 21ms/step - loss: 0.2793 - val_loss: 0.0043\n",
            "Epoch 2/100\n",
            "69/69 [==============================] - 1s 10ms/step - loss: 0.0125 - val_loss: 0.0021\n",
            "Epoch 3/100\n",
            "69/69 [==============================] - 1s 11ms/step - loss: 0.0113 - val_loss: 0.0029\n",
            "Epoch 4/100\n",
            "69/69 [==============================] - 1s 10ms/step - loss: 0.0114 - val_loss: 0.0025\n",
            "Epoch 5/100\n",
            "69/69 [==============================] - 1s 10ms/step - loss: 0.0101 - val_loss: 0.0027\n",
            "Epoch 6/100\n",
            "69/69 [==============================] - 1s 10ms/step - loss: 0.0104 - val_loss: 0.0015\n",
            "Epoch 7/100\n",
            "69/69 [==============================] - 1s 11ms/step - loss: 0.0101 - val_loss: 0.0018\n",
            "Epoch 8/100\n",
            "69/69 [==============================] - 1s 11ms/step - loss: 0.0098 - val_loss: 0.0023\n",
            "Epoch 9/100\n",
            "69/69 [==============================] - 1s 11ms/step - loss: 0.0081 - val_loss: 0.0016\n",
            "Epoch 10/100\n",
            "69/69 [==============================] - 1s 11ms/step - loss: 0.0094 - val_loss: 0.0013\n",
            "Epoch 11/100\n",
            "69/69 [==============================] - 1s 11ms/step - loss: 0.0093 - val_loss: 0.0014\n",
            "Epoch 12/100\n",
            "69/69 [==============================] - 1s 11ms/step - loss: 0.0083 - val_loss: 0.0013\n",
            "Epoch 13/100\n",
            "69/69 [==============================] - 1s 11ms/step - loss: 0.0087 - val_loss: 0.0013\n",
            "Epoch 14/100\n",
            "69/69 [==============================] - 1s 13ms/step - loss: 0.0081 - val_loss: 0.0019\n",
            "Epoch 15/100\n",
            "69/69 [==============================] - 1s 11ms/step - loss: 0.0079 - val_loss: 0.0021\n",
            "Epoch 16/100\n",
            "69/69 [==============================] - 1s 11ms/step - loss: 0.0066 - val_loss: 0.0014\n",
            "Epoch 17/100\n",
            "69/69 [==============================] - 1s 10ms/step - loss: 0.0074 - val_loss: 0.0021\n",
            "Epoch 18/100\n",
            "69/69 [==============================] - 1s 13ms/step - loss: 0.0077 - val_loss: 0.0012\n",
            "Epoch 19/100\n",
            "69/69 [==============================] - 1s 13ms/step - loss: 0.0075 - val_loss: 0.0012\n",
            "Epoch 20/100\n",
            "69/69 [==============================] - 1s 13ms/step - loss: 0.0069 - val_loss: 0.0012\n",
            "Epoch 21/100\n",
            "69/69 [==============================] - 1s 12ms/step - loss: 0.0066 - val_loss: 0.0012\n",
            "Epoch 22/100\n",
            "69/69 [==============================] - 1s 11ms/step - loss: 0.0066 - val_loss: 9.8465e-04\n",
            "Epoch 23/100\n",
            "69/69 [==============================] - 1s 13ms/step - loss: 0.0065 - val_loss: 0.0013\n",
            "Epoch 24/100\n",
            "69/69 [==============================] - 1s 13ms/step - loss: 0.0058 - val_loss: 9.9206e-04\n",
            "Epoch 25/100\n",
            "69/69 [==============================] - 1s 13ms/step - loss: 0.0071 - val_loss: 0.0015\n",
            "Epoch 26/100\n",
            "69/69 [==============================] - 1s 12ms/step - loss: 0.0061 - val_loss: 0.0011\n",
            "Epoch 27/100\n",
            "69/69 [==============================] - 1s 11ms/step - loss: 0.0069 - val_loss: 9.7149e-04\n",
            "Epoch 28/100\n",
            "69/69 [==============================] - 1s 11ms/step - loss: 0.0064 - val_loss: 0.0011\n",
            "Epoch 29/100\n",
            "69/69 [==============================] - 1s 11ms/step - loss: 0.0057 - val_loss: 0.0016\n",
            "Epoch 30/100\n",
            "69/69 [==============================] - 1s 11ms/step - loss: 0.0066 - val_loss: 9.1559e-04\n",
            "Epoch 31/100\n",
            "69/69 [==============================] - 1s 11ms/step - loss: 0.0058 - val_loss: 0.0013\n",
            "Epoch 32/100\n",
            "69/69 [==============================] - 1s 10ms/step - loss: 0.0056 - val_loss: 9.4817e-04\n",
            "Epoch 33/100\n",
            "69/69 [==============================] - 1s 13ms/step - loss: 0.0061 - val_loss: 0.0020\n",
            "Epoch 34/100\n",
            "69/69 [==============================] - 1s 13ms/step - loss: 0.0055 - val_loss: 0.0011\n",
            "Epoch 35/100\n",
            "69/69 [==============================] - 1s 13ms/step - loss: 0.0058 - val_loss: 0.0014\n",
            "Epoch 36/100\n",
            "69/69 [==============================] - 1s 13ms/step - loss: 0.0064 - val_loss: 0.0013\n",
            "Epoch 37/100\n",
            "69/69 [==============================] - 1s 13ms/step - loss: 0.0056 - val_loss: 0.0012\n",
            "Epoch 38/100\n",
            "69/69 [==============================] - 1s 14ms/step - loss: 0.0057 - val_loss: 9.2060e-04\n",
            "Epoch 39/100\n",
            "69/69 [==============================] - 1s 13ms/step - loss: 0.0066 - val_loss: 0.0018\n",
            "Epoch 40/100\n",
            "69/69 [==============================] - 1s 13ms/step - loss: 0.0059 - val_loss: 8.9780e-04\n",
            "Epoch 41/100\n",
            "69/69 [==============================] - 1s 11ms/step - loss: 0.0062 - val_loss: 9.0325e-04\n",
            "Epoch 42/100\n",
            "69/69 [==============================] - 1s 11ms/step - loss: 0.0055 - val_loss: 9.8703e-04\n",
            "Epoch 43/100\n",
            "69/69 [==============================] - 1s 11ms/step - loss: 0.0059 - val_loss: 8.6236e-04\n",
            "Epoch 44/100\n",
            "69/69 [==============================] - 1s 11ms/step - loss: 0.0053 - val_loss: 8.3433e-04\n",
            "Epoch 45/100\n",
            "69/69 [==============================] - 1s 11ms/step - loss: 0.0051 - val_loss: 0.0013\n",
            "Epoch 46/100\n",
            "69/69 [==============================] - 1s 13ms/step - loss: 0.0058 - val_loss: 9.8350e-04\n",
            "Epoch 47/100\n",
            "69/69 [==============================] - 1s 11ms/step - loss: 0.0051 - val_loss: 8.7449e-04\n",
            "Epoch 48/100\n",
            "69/69 [==============================] - 1s 11ms/step - loss: 0.0051 - val_loss: 0.0010\n",
            "Epoch 49/100\n",
            "69/69 [==============================] - 1s 11ms/step - loss: 0.0055 - val_loss: 9.1596e-04\n",
            "Epoch 50/100\n",
            "69/69 [==============================] - 1s 11ms/step - loss: 0.0059 - val_loss: 0.0010\n",
            "Epoch 51/100\n",
            "69/69 [==============================] - 1s 12ms/step - loss: 0.0054 - val_loss: 9.2094e-04\n",
            "Epoch 52/100\n",
            "69/69 [==============================] - 1s 13ms/step - loss: 0.0055 - val_loss: 9.1742e-04\n",
            "Epoch 53/100\n",
            "69/69 [==============================] - 1s 13ms/step - loss: 0.0043 - val_loss: 8.3010e-04\n",
            "Epoch 54/100\n",
            "69/69 [==============================] - 1s 13ms/step - loss: 0.0048 - val_loss: 0.0019\n",
            "Epoch 55/100\n",
            "69/69 [==============================] - 1s 13ms/step - loss: 0.0053 - val_loss: 0.0011\n",
            "Epoch 56/100\n",
            "69/69 [==============================] - 1s 12ms/step - loss: 0.0059 - val_loss: 9.6859e-04\n",
            "Epoch 57/100\n",
            "69/69 [==============================] - 1s 11ms/step - loss: 0.0050 - val_loss: 9.6018e-04\n",
            "Epoch 58/100\n",
            "69/69 [==============================] - 1s 11ms/step - loss: 0.0049 - val_loss: 8.9782e-04\n",
            "Epoch 59/100\n",
            "69/69 [==============================] - 1s 13ms/step - loss: 0.0052 - val_loss: 7.5480e-04\n",
            "Epoch 60/100\n",
            "69/69 [==============================] - 1s 13ms/step - loss: 0.0042 - val_loss: 7.9804e-04\n",
            "Epoch 61/100\n",
            "69/69 [==============================] - 1s 13ms/step - loss: 0.0049 - val_loss: 0.0012\n",
            "Epoch 62/100\n",
            "69/69 [==============================] - 1s 11ms/step - loss: 0.0053 - val_loss: 8.3033e-04\n",
            "Epoch 63/100\n",
            "69/69 [==============================] - 1s 11ms/step - loss: 0.0051 - val_loss: 0.0011\n",
            "Epoch 64/100\n",
            "69/69 [==============================] - 1s 11ms/step - loss: 0.0046 - val_loss: 8.3158e-04\n",
            "Epoch 65/100\n",
            "69/69 [==============================] - 1s 13ms/step - loss: 0.0048 - val_loss: 8.6232e-04\n",
            "Epoch 66/100\n",
            "69/69 [==============================] - 1s 13ms/step - loss: 0.0050 - val_loss: 9.0831e-04\n",
            "Epoch 67/100\n",
            "69/69 [==============================] - 1s 13ms/step - loss: 0.0046 - val_loss: 6.9874e-04\n",
            "Epoch 68/100\n",
            "69/69 [==============================] - 1s 13ms/step - loss: 0.0040 - val_loss: 0.0014\n",
            "Epoch 69/100\n",
            "69/69 [==============================] - 1s 13ms/step - loss: 0.0050 - val_loss: 0.0011\n",
            "Epoch 70/100\n",
            "69/69 [==============================] - 1s 12ms/step - loss: 0.0051 - val_loss: 7.2671e-04\n",
            "Epoch 71/100\n",
            "69/69 [==============================] - 1s 11ms/step - loss: 0.0052 - val_loss: 0.0011\n",
            "Epoch 72/100\n",
            "69/69 [==============================] - 1s 13ms/step - loss: 0.0044 - val_loss: 8.4087e-04\n",
            "Epoch 73/100\n",
            "69/69 [==============================] - 1s 13ms/step - loss: 0.0047 - val_loss: 7.7645e-04\n",
            "Epoch 74/100\n",
            "69/69 [==============================] - 1s 13ms/step - loss: 0.0043 - val_loss: 0.0011\n",
            "Epoch 75/100\n",
            "69/69 [==============================] - 1s 13ms/step - loss: 0.0047 - val_loss: 8.6119e-04\n",
            "Epoch 76/100\n",
            "69/69 [==============================] - 1s 14ms/step - loss: 0.0044 - val_loss: 7.0789e-04\n",
            "Epoch 77/100\n",
            "69/69 [==============================] - 1s 14ms/step - loss: 0.0049 - val_loss: 7.1568e-04\n",
            "Epoch 78/100\n",
            "69/69 [==============================] - 1s 14ms/step - loss: 0.0044 - val_loss: 9.3984e-04\n",
            "Epoch 79/100\n",
            "69/69 [==============================] - 1s 11ms/step - loss: 0.0045 - val_loss: 8.1254e-04\n",
            "Epoch 80/100\n",
            "69/69 [==============================] - 1s 11ms/step - loss: 0.0042 - val_loss: 9.1191e-04\n",
            "Epoch 81/100\n",
            "69/69 [==============================] - 1s 12ms/step - loss: 0.0050 - val_loss: 8.5930e-04\n",
            "Epoch 82/100\n",
            "69/69 [==============================] - 1s 13ms/step - loss: 0.0048 - val_loss: 0.0011\n",
            "Epoch 83/100\n",
            "69/69 [==============================] - 1s 14ms/step - loss: 0.0046 - val_loss: 7.7456e-04\n",
            "Epoch 84/100\n",
            "69/69 [==============================] - 1s 14ms/step - loss: 0.0045 - val_loss: 9.3210e-04\n",
            "Epoch 85/100\n",
            "69/69 [==============================] - 1s 11ms/step - loss: 0.0047 - val_loss: 9.7930e-04\n",
            "Epoch 86/100\n",
            "69/69 [==============================] - 1s 11ms/step - loss: 0.0046 - val_loss: 0.0012\n",
            "Epoch 87/100\n",
            "69/69 [==============================] - 1s 11ms/step - loss: 0.0045 - val_loss: 8.1956e-04\n",
            "Epoch 88/100\n",
            "69/69 [==============================] - 1s 11ms/step - loss: 0.0043 - val_loss: 6.8162e-04\n",
            "Epoch 89/100\n",
            "69/69 [==============================] - 1s 11ms/step - loss: 0.0042 - val_loss: 6.6691e-04\n",
            "Epoch 90/100\n",
            "69/69 [==============================] - 1s 11ms/step - loss: 0.0040 - val_loss: 6.9119e-04\n",
            "Epoch 91/100\n",
            "69/69 [==============================] - 1s 11ms/step - loss: 0.0047 - val_loss: 0.0010\n",
            "Epoch 92/100\n",
            "69/69 [==============================] - 1s 14ms/step - loss: 0.0046 - val_loss: 6.5524e-04\n",
            "Epoch 93/100\n",
            "69/69 [==============================] - 1s 11ms/step - loss: 0.0041 - val_loss: 8.4716e-04\n",
            "Epoch 94/100\n",
            "69/69 [==============================] - 1s 13ms/step - loss: 0.0046 - val_loss: 8.0071e-04\n",
            "Epoch 95/100\n",
            "69/69 [==============================] - 1s 13ms/step - loss: 0.0039 - val_loss: 6.0695e-04\n",
            "Epoch 96/100\n",
            "69/69 [==============================] - 1s 11ms/step - loss: 0.0042 - val_loss: 6.2679e-04\n",
            "Epoch 97/100\n",
            "69/69 [==============================] - 1s 14ms/step - loss: 0.0043 - val_loss: 6.0516e-04\n",
            "Epoch 98/100\n",
            "69/69 [==============================] - 1s 11ms/step - loss: 0.0040 - val_loss: 9.4808e-04\n",
            "Epoch 99/100\n",
            "69/69 [==============================] - 1s 13ms/step - loss: 0.0044 - val_loss: 8.0773e-04\n",
            "Epoch 100/100\n",
            "69/69 [==============================] - 1s 12ms/step - loss: 0.0044 - val_loss: 8.4367e-04\n"
          ],
          "name": "stdout"
        }
      ]
    },
    {
      "cell_type": "code",
      "metadata": {
        "colab": {
          "base_uri": "https://localhost:8080/",
          "height": 282
        },
        "id": "yG2xn1wTYQi4",
        "outputId": "e265be5a-a396-43cf-b4c0-4f872ec83b7f"
      },
      "source": [
        "plt.plot(history.history['loss'], label='Training loss')\n",
        "plt.plot(history.history['val_loss'], label='Validation loss')\n",
        "plt.legend()\n"
      ],
      "execution_count": 14,
      "outputs": [
        {
          "output_type": "execute_result",
          "data": {
            "text/plain": [
              "<matplotlib.legend.Legend at 0x7fbb15cf51d0>"
            ]
          },
          "metadata": {
            "tags": []
          },
          "execution_count": 14
        },
        {
          "output_type": "display_data",
          "data": {
            "image/png": "[encoded data removed]",
            "text/plain": [
              "<Figure size 432x288 with 1 Axes>"
            ]
          },
          "metadata": {
            "tags": [],
            "needs_background": "light"
          }
        }
      ]
    },
    {
      "cell_type": "code",
      "metadata": {
        "colab": {
          "base_uri": "https://localhost:8080/"
        },
        "id": "fqkyoGZ1YUqn",
        "outputId": "534efaa4-5d0a-43f2-cc4d-9f81594f64eb"
      },
      "source": [
        "training_data_prediction= model.predict(train_inputs) \n",
        "training_data_prediction"
      ],
      "execution_count": 15,
      "outputs": [
        {
          "output_type": "execute_result",
          "data": {
            "text/plain": [
              "array([[-0.84916234],\n",
              "       [-0.8731295 ],\n",
              "       [-0.85767186],\n",
              "       ...,\n",
              "       [ 0.39320412],\n",
              "       [ 0.39939097],\n",
              "       [ 0.39522448]], dtype=float32)"
            ]
          },
          "metadata": {
            "tags": []
          },
          "execution_count": 15
        }
      ]
    },
    {
      "cell_type": "code",
      "metadata": {
        "colab": {
          "base_uri": "https://localhost:8080/"
        },
        "id": "Yu1V1kcMYcBN",
        "outputId": "2de87142-1363-423d-d3c5-fcfb210923bd"
      },
      "source": [
        "#Perform inverse transformation to rescale back to original range\n",
        "#Since we used 5 variables for transform, the inverse expects same dimensions\n",
        "#Therefore, let us copy our values 4 times and discard them after inverse transform\n",
        "forecast_copies_1 = np.repeat(training_data_prediction, train.shape[1], axis=-1)\n",
        "predicted_train = scaler.inverse_transform(forecast_copies_1)[:,0]\n",
        "predicted_train"
      ],
      "execution_count": 16,
      "outputs": [
        {
          "output_type": "execute_result",
          "data": {
            "text/plain": [
              "array([5253.5474, 5186.7036, 5229.8145, ..., 8718.459 , 8735.714 ,\n",
              "       8724.094 ], dtype=float32)"
            ]
          },
          "metadata": {
            "tags": []
          },
          "execution_count": 16
        }
      ]
    },
    {
      "cell_type": "code",
      "metadata": {
        "colab": {
          "base_uri": "https://localhost:8080/"
        },
        "id": "MsexcYKCYf1i",
        "outputId": "39cecba1-df92-40ca-cf85-cb829a1e84be"
      },
      "source": [
        "Train_data=Data[n_past:train_size]\n",
        "Train_data['Date']=pd.to_datetime(Train_data['Date'])\n",
        "training_forecast = pd.DataFrame( {'Date':Train_data['Date'],'Close':Train_data['Close'],'Forecast':predicted_train})\n",
        "train_graph=training_forecast.set_index('Date')"
      ],
      "execution_count": 17,
      "outputs": [
        {
          "output_type": "stream",
          "text": [
            "/usr/local/lib/python3.7/dist-packages/ipykernel_launcher.py:2: SettingWithCopyWarning: \n",
            "A value is trying to be set on a copy of a slice from a DataFrame.\n",
            "Try using .loc[row_indexer,col_indexer] = value instead\n",
            "\n",
            "See the caveats in the documentation: https://pandas.pydata.org/pandas-docs/stable/user_guide/indexing.html#returning-a-view-versus-a-copy\n",
            "  \n"
          ],
          "name": "stderr"
        }
      ]
    },
    {
      "cell_type": "code",
      "metadata": {
        "colab": {
          "base_uri": "https://localhost:8080/",
          "height": 405
        },
        "id": "Aa45Lpv2YhP1",
        "outputId": "19ba1ad8-9649-4488-cd2a-8f0d47c8fcc1"
      },
      "source": [
        "line,ax = plt.subplots(figsize=(10,6))\n",
        "ax = sns.lineplot(data=train_graph)\n",
        "ax.legend (loc=\"upper right\")"
      ],
      "execution_count": 18,
      "outputs": [
        {
          "output_type": "execute_result",
          "data": {
            "text/plain": [
              "<matplotlib.legend.Legend at 0x7fbb15ccd1d0>"
            ]
          },
          "metadata": {
            "tags": []
          },
          "execution_count": 18
        },
        {
          "output_type": "display_data",
          "data": {
            "image/png": "[encoded data removed]",
            "text/plain": [
              "<Figure size 720x432 with 1 Axes>"
            ]
          },
          "metadata": {
            "tags": [],
            "needs_background": "light"
          }
        }
      ]
    },
    {
      "cell_type": "code",
      "metadata": {
        "colab": {
          "base_uri": "https://localhost:8080/"
        },
        "id": "d0VjtJPuYi6b",
        "outputId": "92409ccb-73cf-4d39-a3f9-daf3bffd79f6"
      },
      "source": [
        "import math\n",
        "trainScore = math.sqrt(mean_squared_error(train_graph['Close'], train_graph['Forecast']))\n",
        "print('Train Score: %.2f RMSE' % (trainScore))"
      ],
      "execution_count": 19,
      "outputs": [
        {
          "output_type": "stream",
          "text": [
            "Train Score: 102.06 RMSE\n"
          ],
          "name": "stdout"
        }
      ]
    },
    {
      "cell_type": "code",
      "metadata": {
        "id": "-cuGMsPgYk23"
      },
      "source": [
        "test_inputs=[]\n",
        "for i in range(n_past, len(test) - n_future +1):\n",
        "    test_inputs.append(test[i - n_past:i, 0:train.shape[1]])\n",
        "test_inputs=np.array(test_inputs)"
      ],
      "execution_count": 20,
      "outputs": []
    },
    {
      "cell_type": "code",
      "metadata": {
        "id": "QiBDBW8zYnHi"
      },
      "source": [
        "testing_data_prediction= model.predict(test_inputs) \n",
        "forecast_copies_2 = np.repeat(testing_data_prediction, test.shape[1], axis=-1)\n",
        "predicted_test = scaler.inverse_transform(forecast_copies_2)[:,0]"
      ],
      "execution_count": 21,
      "outputs": []
    },
    {
      "cell_type": "code",
      "metadata": {
        "colab": {
          "base_uri": "https://localhost:8080/"
        },
        "id": "QFmCCPYDYo9u",
        "outputId": "d5b7c725-83ef-4226-e993-f95f027d65ec"
      },
      "source": [
        "Test_data=Data[train_size+n_past:len(stock_prices_scaled)]\n",
        "Test_data['Date']=pd.to_datetime(Test_data['Date'])\n",
        "testing_forecast = pd.DataFrame( {'Date':Test_data['Date'],'Close':Test_data['Close'],'Forecast':predicted_test})\n",
        "test_graph=testing_forecast.set_index('Date')\n"
      ],
      "execution_count": 22,
      "outputs": [
        {
          "output_type": "stream",
          "text": [
            "/usr/local/lib/python3.7/dist-packages/ipykernel_launcher.py:2: SettingWithCopyWarning: \n",
            "A value is trying to be set on a copy of a slice from a DataFrame.\n",
            "Try using .loc[row_indexer,col_indexer] = value instead\n",
            "\n",
            "See the caveats in the documentation: https://pandas.pydata.org/pandas-docs/stable/user_guide/indexing.html#returning-a-view-versus-a-copy\n",
            "  \n"
          ],
          "name": "stderr"
        }
      ]
    },
    {
      "cell_type": "code",
      "metadata": {
        "colab": {
          "base_uri": "https://localhost:8080/",
          "height": 405
        },
        "id": "Wvv-IE_AYqK8",
        "outputId": "627043b7-0215-4ab4-8bda-8235d0f3cf9e"
      },
      "source": [
        "line,ax = plt.subplots(figsize=(10,6))\n",
        "ax = sns.lineplot(data=test_graph)\n",
        "ax.legend (loc=\"upper right\")"
      ],
      "execution_count": 23,
      "outputs": [
        {
          "output_type": "execute_result",
          "data": {
            "text/plain": [
              "<matplotlib.legend.Legend at 0x7fbb18dde990>"
            ]
          },
          "metadata": {
            "tags": []
          },
          "execution_count": 23
        },
        {
          "output_type": "display_data",
          "data": {
            "image/png": "[encoded data removed]",
            "text/plain": [
              "<Figure size 720x432 with 1 Axes>"
            ]
          },
          "metadata": {
            "tags": [],
            "needs_background": "light"
          }
        }
      ]
    },
    {
      "cell_type": "code",
      "metadata": {
        "colab": {
          "base_uri": "https://localhost:8080/"
        },
        "id": "J-PnXP_dYr_Z",
        "outputId": "11323068-94fd-4c9c-deb4-2f98abbebad4"
      },
      "source": [
        "import math\n",
        "testScore = math.sqrt(mean_squared_error(test_graph['Close'], test_graph['Forecast']))\n",
        "print('Test Score: %.2f RMSE' % (testScore))"
      ],
      "execution_count": 24,
      "outputs": [
        {
          "output_type": "stream",
          "text": [
            "Test Score: 278.97 RMSE\n"
          ],
          "name": "stdout"
        }
      ]
    },
    {
      "cell_type": "code",
      "metadata": {
        "id": "zpzI1xrHYtiD"
      },
      "source": [
        ""
      ],
      "execution_count": null,
      "outputs": []
    }
  ]
}